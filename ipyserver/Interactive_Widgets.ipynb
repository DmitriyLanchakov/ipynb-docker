{
 "metadata": {
  "name": "",
  "signature": "sha256:71db062e218170c74f3e9bd1b8ce19e3d0e2724e20284938ee17d59e4c30cbf0"
 },
 "nbformat": 3,
 "nbformat_minor": 0,
 "worksheets": [
  {
   "cells": [
    {
     "cell_type": "markdown",
     "metadata": {},
     "source": [
      "<img src=\"http://hilpisch.com/tpq_logo.png\" alt=\"The Python Quants\" width=\"45%\" align=\"right\" border=\"4\">"
     ]
    },
    {
     "cell_type": "heading",
     "level": 1,
     "metadata": {},
     "source": [
      "Interactive IPython Notebooks"
     ]
    },
    {
     "cell_type": "markdown",
     "metadata": {},
     "source": [
      "Yves Hilpisch\n",
      "\n",
      "<a href='mailto:yves@pythonquants.com'>yves@pythonquants.com</a>\n",
      "\n",
      "<a href='http://pythonquants.com'>www.pythonquants.com</a>\n",
      "\n",
      "The Python Quants GmbH"
     ]
    },
    {
     "cell_type": "code",
     "collapsed": false,
     "input": [
      "from IPython.html.widgets import *"
     ],
     "language": "python",
     "metadata": {},
     "outputs": []
    },
    {
     "cell_type": "code",
     "collapsed": false,
     "input": [
      "import matplotlib.pyplot as plt\n",
      "from mpl_toolkits.mplot3d import Axes3D\n",
      "%matplotlib inline\n",
      "import numpy as np"
     ],
     "language": "python",
     "metadata": {},
     "outputs": []
    },
    {
     "cell_type": "code",
     "collapsed": false,
     "input": [
      "class call_option(object):\n",
      "    from math import log, sqrt, exp\n",
      "    from scipy import stats\n",
      "    global log, sqrt, exp, stats\n",
      "    \n",
      "    def __init__(self, S0, K, T, r, sigma):\n",
      "        self.S0 = float(S0)\n",
      "        self.K = K\n",
      "        self.T = T\n",
      "        self.r = r\n",
      "        self.sigma = sigma\n",
      "    \n",
      "    def value(self):\n",
      "        ''' Return option value. '''\n",
      "        d1 = ((log(self.S0 / self.K) + (self.r + 0.5 * self.sigma ** 2) * self.T)\n",
      "                / (self.sigma * sqrt(self.T)))\n",
      "        d2 = ((log(self.S0 / self.K) + (self.r - 0.5 * self.sigma ** 2) * self.T)\n",
      "                / (self.sigma * sqrt(self.T)))\n",
      "        value = (self.S0 * stats.norm.cdf(d1, 0.0, 1.0)\n",
      "                - self.K * exp(-self.r * self.T) * stats.norm.cdf(d2, 0.0, 1.0))\n",
      "        return value\n",
      "    \n",
      "    def vega(self):\n",
      "        ''' Return Vega of option. '''\n",
      "        d1 = ((log(self.S0 / self.K)\n",
      "            + (self.r + (0.5 * self.sigma ** 2)) * self.T)\n",
      "            / (self.sigma * sqrt(self.T)))\n",
      "        vega = self.S0 * stats.norm.cdf(d1, 0.0, 1.0) * sqrt(self.T)\n",
      "        return vega"
     ],
     "language": "python",
     "metadata": {},
     "outputs": []
    },
    {
     "cell_type": "heading",
     "level": 3,
     "metadata": {},
     "source": [
      "Print Output"
     ]
    },
    {
     "cell_type": "code",
     "collapsed": false,
     "input": [
      "def vega_calculation(S0=100, T=1.0, r=0.01, sigma=0.2, n=10):\n",
      "    np.set_printoptions(formatter={'all' : \n",
      "                        lambda x: '%6.2f' % x})\n",
      "    o = call_option(S0, 100, T, r, sigma)\n",
      "    strikes = np.linspace(80, 120, n)\n",
      "    vegas = []\n",
      "    for k in strikes:\n",
      "        o.K = k\n",
      "        vegas.append(o.vega())\n",
      "    print (\"Strike:\", strikes.round(3))\n",
      "    print (\"Vega:  \", np.array(vegas).round(3))"
     ],
     "language": "python",
     "metadata": {},
     "outputs": []
    },
    {
     "cell_type": "code",
     "collapsed": false,
     "input": [
      "interact(vega_calculation, S0=(75, 125, 1),\n",
      "                       T=(0.01, 2.0, 0.01),\n",
      "                       r=(0.0, 0.1, 0.005),\n",
      "                       sigma=(0.01, 0.5, 0.01),\n",
      "                       n=(1, 20, 1))"
     ],
     "language": "python",
     "metadata": {},
     "outputs": []
    },
    {
     "cell_type": "heading",
     "level": 3,
     "metadata": {},
     "source": [
      "2d Plot"
     ]
    },
    {
     "cell_type": "code",
     "collapsed": false,
     "input": [
      "def vega_plot_2d(S0=100, T=1.0, r=0.01, sigma=0.2):\n",
      "    o = call_option(S0, 100, T, r, sigma)\n",
      "    strikes = np.linspace(80, 120, 20)\n",
      "    vegas = []\n",
      "    for k in strikes:\n",
      "        o.K = k\n",
      "        vegas.append(o.vega())\n",
      "    plt.figure(figsize=(8, 5))\n",
      "    plt.plot(strikes, vegas)\n",
      "    plt.grid(True)\n",
      "    plt.xlabel('strike')\n",
      "    plt.ylabel('Vega')"
     ],
     "language": "python",
     "metadata": {},
     "outputs": []
    },
    {
     "cell_type": "code",
     "collapsed": false,
     "input": [
      "interact(vega_plot_2d, S0=(75, 125, 1),\n",
      "                       T=(0.01, 2.0, 0.01),\n",
      "                       r=(0.0, 0.1, 0.005),\n",
      "                       sigma=(0.01, 0.5, 0.01))"
     ],
     "language": "python",
     "metadata": {},
     "outputs": []
    },
    {
     "cell_type": "heading",
     "level": 3,
     "metadata": {},
     "source": [
      "3d Plot"
     ]
    },
    {
     "cell_type": "code",
     "collapsed": false,
     "input": [
      "def vega_plot_3d(S0=100, r=0.01, sigma=0.2):\n",
      "    o = call_option(S0, 100, 1.0, r, sigma)\n",
      "    maturities = np.linspace(0.05, 2.0, 20)\n",
      "    strikes = np.linspace(80, 120, 20)\n",
      "    T, K = np.meshgrid(strikes, maturities)\n",
      "    V = np.zeros_like(K)\n",
      "    for t in enumerate(maturities):\n",
      "         for k in enumerate(strikes):\n",
      "             o.T = t[1]\n",
      "             o.K = k[1]\n",
      "             V[t[0], k[0]] = o.vega()\n",
      "    fig = plt.figure(figsize=(10, 5))\n",
      "    ax = fig.gca(projection='3d')\n",
      "    surf = ax.plot_surface(T, K, V, rstride=1, cstride=1,\n",
      "             cmap='RdYlBu_r', linewidth=0.5, antialiased=True)\n",
      "    ax.set_xlabel('strike')\n",
      "    ax.set_ylabel('maturity')\n",
      "    ax.set_zlabel('Vega of European call option')\n",
      "    fig.colorbar(surf, shrink=0.5, aspect=5)"
     ],
     "language": "python",
     "metadata": {},
     "outputs": []
    },
    {
     "cell_type": "code",
     "collapsed": false,
     "input": [
      "interact(vega_plot_3d, S0=(75, 125, 1),\n",
      "                    r=(0.0, 0.1, 0.005),\n",
      "                    sigma=(0.01, 0.5, 0.01))"
     ],
     "language": "python",
     "metadata": {},
     "outputs": []
    },
    {
     "cell_type": "markdown",
     "metadata": {},
     "source": [
      "<img src=\"http://hilpisch.com/tpq_logo.png\" alt=\"The Python Quants\" width=\"35%\" align=\"right\" border=\"0\"><br>\n",
      "\n",
      "<a href=\"http://www.pythonquants.com\" target=\"_blank\">www.pythonquants.com</a> | <a href=\"http://twitter.com/dyjh\" target=\"_blank\">@dyjh</a>\n",
      "\n",
      "<a href=\"mailto:analytics@pythonquants.com\">analytics@pythonquants.com</a>\n",
      "\n",
      "**Python Quant Platform** |\n",
      "<a href=\"http://quant-platform.com\">http://quant-platform.com</a>\n",
      "\n",
      "**Python for Finance** |\n",
      "<a href=\"http://shop.oreilly.com/product/0636920032441.do\" target=\"_blank\">Python for Finance @ O'Reilly</a>\n",
      "\n",
      "**Derivatives Analytics with Python** |\n",
      "<a href=\"http://eu.wiley.com/WileyCDA/WileyTitle/productCd-1119037999.html\" target=\"_blank\">Derivatives Analytics @ Wiley Finance</a>"
     ]
    }
   ],
   "metadata": {}
  }
 ]
}
