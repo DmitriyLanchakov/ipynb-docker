{
 "cells": [
  {
   "cell_type": "markdown",
   "metadata": {},
   "source": [
    "<img src=\"http://datapark.io/img/logo.png\" alt=\"datpark\" width=\"35%\" align=\"right\" border=\"0\"><br>"
   ]
  },
  {
   "cell_type": "markdown",
   "metadata": {},
   "source": [
    "# TsTables &ndash; High Frequency Times Series Data with PyTables"
   ]
  },
  {
   "cell_type": "markdown",
   "metadata": {},
   "source": [
    "**TsTables** is a Python library by Andy Fiedler built on top of the popular ``PyTables`` HDF5 database library. It is meant to handle large amounts of **high frequency time series data** in **append once, retrieve many times** scenarios (cf. [Gihub page](https://github.com/afiedler/tstables)). The focus lies on retrieving chunks of data from large data sets as quickly as possible."
   ]
  },
  {
   "cell_type": "markdown",
   "metadata": {},
   "source": [
    "## Sample Time Series Data"
   ]
  },
  {
   "cell_type": "code",
   "execution_count": 1,
   "metadata": {
    "collapsed": false
   },
   "outputs": [],
   "source": [
    "import numpy as np\n",
    "import pandas as pd\n",
    "import tables as tb\n",
    "import tstables as tstb\n",
    "from datetime import datetime \n",
    "import matplotlib as mpl\n",
    "mpl.use('agg')\n",
    "import seaborn as sns; sns.set()\n",
    "%matplotlib inline"
   ]
  },
  {
   "cell_type": "markdown",
   "metadata": {},
   "source": [
    "Let us generate a **decent amount of sample data points**."
   ]
  },
  {
   "cell_type": "code",
   "execution_count": 2,
   "metadata": {
    "collapsed": false
   },
   "outputs": [],
   "source": [
    "no = 5000000\n",
    "co = 3\n",
    "dt = 1. / (12 * 30 * 24 * 60)\n",
    "vol = 0.2"
   ]
  },
  {
   "cell_type": "markdown",
   "metadata": {},
   "source": [
    "We generate **one second** data."
   ]
  },
  {
   "cell_type": "code",
   "execution_count": 3,
   "metadata": {
    "collapsed": false
   },
   "outputs": [],
   "source": [
    "dr = pd.date_range('2014-1-1', periods=no, freq='1s')"
   ]
  },
  {
   "cell_type": "code",
   "execution_count": 4,
   "metadata": {
    "collapsed": false
   },
   "outputs": [
    {
     "data": {
      "text/plain": [
       "DatetimeIndex(['2014-01-01 00:00:00', '2014-01-01 00:00:01',\n",
       "               '2014-01-01 00:00:02', '2014-01-01 00:00:03',\n",
       "               '2014-01-01 00:00:04', '2014-01-01 00:00:05',\n",
       "               '2014-01-01 00:00:06', '2014-01-01 00:00:07',\n",
       "               '2014-01-01 00:00:08', '2014-01-01 00:00:09', \n",
       "               ...\n",
       "               '2014-02-27 20:53:10', '2014-02-27 20:53:11',\n",
       "               '2014-02-27 20:53:12', '2014-02-27 20:53:13',\n",
       "               '2014-02-27 20:53:14', '2014-02-27 20:53:15',\n",
       "               '2014-02-27 20:53:16', '2014-02-27 20:53:17',\n",
       "               '2014-02-27 20:53:18', '2014-02-27 20:53:19'],\n",
       "              dtype='datetime64[ns]', length=5000000, freq='S', tz=None)"
      ]
     },
     "execution_count": 4,
     "metadata": {},
     "output_type": "execute_result"
    }
   ],
   "source": [
    "dr"
   ]
  },
  {
   "cell_type": "markdown",
   "metadata": {},
   "source": [
    "**In memory** generation is quite quick."
   ]
  },
  {
   "cell_type": "code",
   "execution_count": 5,
   "metadata": {
    "collapsed": false
   },
   "outputs": [
    {
     "name": "stdout",
     "output_type": "stream",
     "text": [
      "CPU times: user 1.29 s, sys: 87.1 ms, total: 1.38 s\n",
      "Wall time: 1.38 s\n"
     ]
    }
   ],
   "source": [
    "%%time\n",
    "da = 100 * np.exp(np.cumsum(-0.5 * vol ** 2 * dt +\n",
    "        vol * np.sqrt(dt) * np.random.standard_normal((no, co)), axis=0))\n",
    "da[0] = 100"
   ]
  },
  {
   "cell_type": "code",
   "execution_count": 6,
   "metadata": {
    "collapsed": false
   },
   "outputs": [],
   "source": [
    "df = pd.DataFrame(da, index=dr, columns=['ts1', 'ts2', 'ts3'])"
   ]
  },
  {
   "cell_type": "code",
   "execution_count": 7,
   "metadata": {
    "collapsed": false
   },
   "outputs": [
    {
     "data": {
      "text/plain": [
       "ts1    5000000\n",
       "ts2    5000000\n",
       "ts3    5000000\n",
       "dtype: int64"
      ]
     },
     "execution_count": 7,
     "metadata": {},
     "output_type": "execute_result"
    }
   ],
   "source": [
    "df.count()"
   ]
  },
  {
   "cell_type": "markdown",
   "metadata": {},
   "source": [
    "The **starting values** of the three time series."
   ]
  },
  {
   "cell_type": "code",
   "execution_count": 8,
   "metadata": {
    "collapsed": false
   },
   "outputs": [
    {
     "data": {
      "text/html": [
       "<div>\n",
       "<table border=\"1\" class=\"dataframe\">\n",
       "  <thead>\n",
       "    <tr style=\"text-align: right;\">\n",
       "      <th></th>\n",
       "      <th>ts1</th>\n",
       "      <th>ts2</th>\n",
       "      <th>ts3</th>\n",
       "    </tr>\n",
       "  </thead>\n",
       "  <tbody>\n",
       "    <tr>\n",
       "      <th>2014-01-01 00:00:00</th>\n",
       "      <td>100.000000</td>\n",
       "      <td>100.000000</td>\n",
       "      <td>100.000000</td>\n",
       "    </tr>\n",
       "    <tr>\n",
       "      <th>2014-01-01 00:00:01</th>\n",
       "      <td>99.993741</td>\n",
       "      <td>100.044124</td>\n",
       "      <td>100.008247</td>\n",
       "    </tr>\n",
       "    <tr>\n",
       "      <th>2014-01-01 00:00:02</th>\n",
       "      <td>99.984598</td>\n",
       "      <td>100.046623</td>\n",
       "      <td>99.977645</td>\n",
       "    </tr>\n",
       "    <tr>\n",
       "      <th>2014-01-01 00:00:03</th>\n",
       "      <td>100.006479</td>\n",
       "      <td>100.048659</td>\n",
       "      <td>99.979245</td>\n",
       "    </tr>\n",
       "    <tr>\n",
       "      <th>2014-01-01 00:00:04</th>\n",
       "      <td>100.018308</td>\n",
       "      <td>100.057601</td>\n",
       "      <td>99.969766</td>\n",
       "    </tr>\n",
       "  </tbody>\n",
       "</table>\n",
       "</div>"
      ],
      "text/plain": [
       "                            ts1         ts2         ts3\n",
       "2014-01-01 00:00:00  100.000000  100.000000  100.000000\n",
       "2014-01-01 00:00:01   99.993741  100.044124  100.008247\n",
       "2014-01-01 00:00:02   99.984598  100.046623   99.977645\n",
       "2014-01-01 00:00:03  100.006479  100.048659   99.979245\n",
       "2014-01-01 00:00:04  100.018308  100.057601   99.969766"
      ]
     },
     "execution_count": 8,
     "metadata": {},
     "output_type": "execute_result"
    }
   ],
   "source": [
    "df.head()"
   ]
  },
  {
   "cell_type": "markdown",
   "metadata": {},
   "source": [
    "And a **plot** of the time series data (every 100000th point)."
   ]
  },
  {
   "cell_type": "code",
   "execution_count": 9,
   "metadata": {
    "collapsed": false
   },
   "outputs": [
    {
     "data": {
      "text/plain": [
       "<matplotlib.axes._subplots.AxesSubplot at 0x7f265a4f2bd0>"
      ]
     },
     "execution_count": 9,
     "metadata": {},
     "output_type": "execute_result"
    },
    {
     "data": {
      "image/png": "[encoded data removed]",
      "text/plain": [
       "<matplotlib.figure.Figure at 0x7f2688ea0910>"
      ]
     },
     "metadata": {},
     "output_type": "display_data"
    }
   ],
   "source": [
    "df[::100000].plot()"
   ]
  },
  {
   "cell_type": "markdown",
   "metadata": {},
   "source": [
    "## Storage and Retrieval with TsTables"
   ]
  },
  {
   "cell_type": "markdown",
   "metadata": {},
   "source": [
    "To store the time series data in a **PyTables table** we first define the **table structure**."
   ]
  },
  {
   "cell_type": "code",
   "execution_count": 10,
   "metadata": {
    "collapsed": false
   },
   "outputs": [],
   "source": [
    "class TS(tb.IsDescription):\n",
    "    timestamp = tb.Int64Col(pos=0)\n",
    "    ts1 = tb.Float64Col(pos=1)\n",
    "    ts2 = tb.Float64Col(pos=1)\n",
    "    ts3 = tb.Float64Col(pos=1)"
   ]
  },
  {
   "cell_type": "markdown",
   "metadata": {},
   "source": [
    "Second, open a database file and **create the table object**."
   ]
  },
  {
   "cell_type": "code",
   "execution_count": 11,
   "metadata": {
    "collapsed": false
   },
   "outputs": [],
   "source": [
    "h5 = tb.open_file('ts.h5','w')"
   ]
  },
  {
   "cell_type": "markdown",
   "metadata": {},
   "source": [
    "TsTables adds a new function **``create_ts``** to PyTables."
   ]
  },
  {
   "cell_type": "code",
   "execution_count": 12,
   "metadata": {
    "collapsed": false
   },
   "outputs": [],
   "source": [
    "ts = h5.create_ts('/','TS', TS)"
   ]
  },
  {
   "cell_type": "markdown",
   "metadata": {},
   "source": [
    "Third, we **append the time series data** to the table object."
   ]
  },
  {
   "cell_type": "code",
   "execution_count": 13,
   "metadata": {
    "collapsed": false
   },
   "outputs": [
    {
     "name": "stdout",
     "output_type": "stream",
     "text": [
      "CPU times: user 528 ms, sys: 261 ms, total: 789 ms\n",
      "Wall time: 788 ms\n"
     ]
    }
   ],
   "source": [
    "%time ts.append(df)"
   ]
  },
  {
   "cell_type": "code",
   "execution_count": 14,
   "metadata": {
    "collapsed": false
   },
   "outputs": [
    {
     "name": "stdout",
     "output_type": "stream",
     "text": [
      "-rw-r--r-- 1 0 0 157037848 Aug  7 15:28 ts.h5\r\n"
     ]
    }
   ],
   "source": [
    "ls -n *.h5"
   ]
  },
  {
   "cell_type": "markdown",
   "metadata": {},
   "source": [
    "The strength of TsTables lies in retrieving **chunks of time series data** defined by a **start date and an end date** (which obviously is a typical case in finance, e.g. in backtesting strategies or risk management)."
   ]
  },
  {
   "cell_type": "code",
   "execution_count": 15,
   "metadata": {
    "collapsed": false
   },
   "outputs": [],
   "source": [
    "read_start_dt = datetime(2014, 2, 1, 0, 0)\n",
    "read_end_dt = datetime(2014, 2, 5, 23, 59)"
   ]
  },
  {
   "cell_type": "markdown",
   "metadata": {},
   "source": [
    "TsTables tries to make such an operation **as fast as possible**."
   ]
  },
  {
   "cell_type": "code",
   "execution_count": 16,
   "metadata": {
    "collapsed": false
   },
   "outputs": [
    {
     "name": "stdout",
     "output_type": "stream",
     "text": [
      "CPU times: user 56.2 ms, sys: 12 ms, total: 68.3 ms\n",
      "Wall time: 66.9 ms\n"
     ]
    }
   ],
   "source": [
    "%time rows = ts.read_range(read_start_dt, read_end_dt)"
   ]
  },
  {
   "cell_type": "code",
   "execution_count": 17,
   "metadata": {
    "collapsed": false
   },
   "outputs": [
    {
     "name": "stdout",
     "output_type": "stream",
     "text": [
      "10 loops, best of 3: 44.4 ms per loop\n"
     ]
    }
   ],
   "source": [
    "%timeit rows = ts.read_range(read_start_dt, read_end_dt)"
   ]
  },
  {
   "cell_type": "markdown",
   "metadata": {},
   "source": [
    "Conveniently, the **returned object is a pandas DataFrame**."
   ]
  },
  {
   "cell_type": "code",
   "execution_count": 18,
   "metadata": {
    "collapsed": false
   },
   "outputs": [
    {
     "data": {
      "text/plain": [
       "ts1    431941\n",
       "ts2    431941\n",
       "ts3    431941\n",
       "dtype: int64"
      ]
     },
     "execution_count": 18,
     "metadata": {},
     "output_type": "execute_result"
    }
   ],
   "source": [
    "rows.count()"
   ]
  },
  {
   "cell_type": "code",
   "execution_count": 19,
   "metadata": {
    "collapsed": false
   },
   "outputs": [
    {
     "data": {
      "text/html": [
       "<div>\n",
       "<table border=\"1\" class=\"dataframe\">\n",
       "  <thead>\n",
       "    <tr style=\"text-align: right;\">\n",
       "      <th></th>\n",
       "      <th>ts1</th>\n",
       "      <th>ts2</th>\n",
       "      <th>ts3</th>\n",
       "    </tr>\n",
       "  </thead>\n",
       "  <tbody>\n",
       "    <tr>\n",
       "      <th>2014-02-01 00:00:00</th>\n",
       "      <td>164.400347</td>\n",
       "      <td>116.808093</td>\n",
       "      <td>102.777669</td>\n",
       "    </tr>\n",
       "    <tr>\n",
       "      <th>2014-02-01 00:00:01</th>\n",
       "      <td>164.408910</td>\n",
       "      <td>116.826512</td>\n",
       "      <td>102.739382</td>\n",
       "    </tr>\n",
       "    <tr>\n",
       "      <th>2014-02-01 00:00:02</th>\n",
       "      <td>164.452665</td>\n",
       "      <td>116.777747</td>\n",
       "      <td>102.727334</td>\n",
       "    </tr>\n",
       "    <tr>\n",
       "      <th>2014-02-01 00:00:03</th>\n",
       "      <td>164.546535</td>\n",
       "      <td>116.790035</td>\n",
       "      <td>102.709615</td>\n",
       "    </tr>\n",
       "    <tr>\n",
       "      <th>2014-02-01 00:00:04</th>\n",
       "      <td>164.559488</td>\n",
       "      <td>116.808340</td>\n",
       "      <td>102.715006</td>\n",
       "    </tr>\n",
       "  </tbody>\n",
       "</table>\n",
       "</div>"
      ],
      "text/plain": [
       "                            ts1         ts2         ts3\n",
       "2014-02-01 00:00:00  164.400347  116.808093  102.777669\n",
       "2014-02-01 00:00:01  164.408910  116.826512  102.739382\n",
       "2014-02-01 00:00:02  164.452665  116.777747  102.727334\n",
       "2014-02-01 00:00:03  164.546535  116.790035  102.709615\n",
       "2014-02-01 00:00:04  164.559488  116.808340  102.715006"
      ]
     },
     "execution_count": 19,
     "metadata": {},
     "output_type": "execute_result"
    }
   ],
   "source": [
    "rows.head()"
   ]
  },
  {
   "cell_type": "code",
   "execution_count": 20,
   "metadata": {
    "collapsed": false
   },
   "outputs": [
    {
     "data": {
      "text/plain": [
       "<matplotlib.axes._subplots.AxesSubplot at 0x7f2656b80910>"
      ]
     },
     "execution_count": 20,
     "metadata": {},
     "output_type": "execute_result"
    },
    {
     "data": {
      "image/png": "[encoded data removed]",
      "text/plain": [
       "<matplotlib.figure.Figure at 0x7f2657c0d1d0>"
      ]
     },
     "metadata": {},
     "output_type": "display_data"
    }
   ],
   "source": [
    "rows[::100].plot()"
   ]
  },
  {
   "cell_type": "code",
   "execution_count": 21,
   "metadata": {
    "collapsed": false
   },
   "outputs": [],
   "source": [
    "h5.close()"
   ]
  },
  {
   "cell_type": "code",
   "execution_count": 22,
   "metadata": {
    "collapsed": false
   },
   "outputs": [],
   "source": [
    "!rm ts.h5"
   ]
  },
  {
   "cell_type": "markdown",
   "metadata": {},
   "source": [
    "<img src=\"http://datapark.io/img/logo.png\" alt=\"datapark\" width=\"35%\" align=\"right\" border=\"0\"><br>\n",
    "\n",
    "<a href=\"http://datapark.io\" target=\"_blank\">datapark.io</a> | <a href=\"http://twitter.com/dataparkio\" target=\"_blank\">@dataparkio</a> | <a href=\"mailto:team@datapark.io\">team@datapark.io</a>"
   ]
  }
 ],
 "metadata": {
  "kernelspec": {
   "display_name": "Python 2",
   "language": "python",
   "name": "python2"
  },
  "language_info": {
   "codemirror_mode": {
    "name": "ipython",
    "version": 2
   },
   "file_extension": ".py",
   "mimetype": "text/x-python",
   "name": "python",
   "nbconvert_exporter": "python",
   "pygments_lexer": "ipython2",
   "version": "2.7.10"
  }
 },
 "nbformat": 4,
 "nbformat_minor": 0
}
