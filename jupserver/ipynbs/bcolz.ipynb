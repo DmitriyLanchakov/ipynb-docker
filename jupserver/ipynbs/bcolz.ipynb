{
 "cells": [
  {
   "cell_type": "markdown",
   "metadata": {},
   "source": [
    "<img src=\"http://datapark.io/img/logo.png\" alt=\"datpark\" width=\"35%\" align=\"right\" border=\"0\"><br>"
   ]
  },
  {
   "cell_type": "markdown",
   "metadata": {},
   "source": [
    "# bcolz &ndash; HPC data storage and retrieval with Python"
   ]
  },
  {
   "cell_type": "markdown",
   "metadata": {},
   "source": [
    "`bcolz` is a **columnar data store** for fast data storage and retrieval with built-in **high performance compression**. It supports both **in-memory and out-of-memory** storage and operations. Cf. <a href=\"http://bcolz.blosc.org/\" target=\"_blank\">http://bcolz.blosc.org/</a>."
   ]
  },
  {
   "cell_type": "code",
   "execution_count": 1,
   "metadata": {
    "collapsed": false
   },
   "outputs": [],
   "source": [
    "import bcolz"
   ]
  },
  {
   "cell_type": "markdown",
   "metadata": {},
   "source": [
    "## ctable Example "
   ]
  },
  {
   "cell_type": "markdown",
   "metadata": {},
   "source": [
    "The first example is based on the ``ctable`` class for data in **table format**. The example data set is **1 GB** in size."
   ]
  },
  {
   "cell_type": "code",
   "execution_count": 2,
   "metadata": {
    "collapsed": false
   },
   "outputs": [
    {
     "name": "stdout",
     "output_type": "stream",
     "text": [
      "100000000\n"
     ]
    }
   ],
   "source": [
    "N = 100000 * 1000\n",
    "print N"
   ]
  },
  {
   "cell_type": "markdown",
   "metadata": {},
   "source": [
    "### In-Memory Storage"
   ]
  },
  {
   "cell_type": "markdown",
   "metadata": {},
   "source": [
    "We generate first an **in-memory object** using high compression. Since we work with integers, **good compression ratios** are to be expected."
   ]
  },
  {
   "cell_type": "code",
   "execution_count": 3,
   "metadata": {
    "collapsed": false
   },
   "outputs": [
    {
     "name": "stdout",
     "output_type": "stream",
     "text": [
      "CPU times: user 39.4 s, sys: 307 ms, total: 39.7 s\n",
      "Wall time: 37.3 s\n"
     ]
    }
   ],
   "source": [
    "%%time\n",
    "ct = bcolz.fromiter(((i, i ** 2) for i in xrange(N)),\n",
    "                    dtype=\"i4, i8\",\n",
    "                    count=N,\n",
    "                    cparams=bcolz.cparams(clevel=9))"
   ]
  },
  {
   "cell_type": "markdown",
   "metadata": {},
   "source": [
    "It takes about **24 sec** to generate the ``ctable`` object from a generator via the ``fromiter`` method. The **in-memory size** is about **150 MB** only, which translates in to a **compression ratio of 7.45**."
   ]
  },
  {
   "cell_type": "code",
   "execution_count": 4,
   "metadata": {
    "collapsed": false
   },
   "outputs": [
    {
     "data": {
      "text/plain": [
       "ctable((100000000,), [('f0', '<i4'), ('f1', '<i8')])\n",
       "  nbytes: 1.12 GB; cbytes: 151.84 MB; ratio: 7.54\n",
       "  cparams := cparams(clevel=9, shuffle=True, cname='blosclz')\n",
       "[(0, 0) (1, 1) (2, 4) ..., (99999997, 9999999400000009)\n",
       " (99999998, 9999999600000004) (99999999, 9999999800000001)]"
      ]
     },
     "execution_count": 4,
     "metadata": {},
     "output_type": "execute_result"
    }
   ],
   "source": [
    "ct"
   ]
  },
  {
   "cell_type": "markdown",
   "metadata": {},
   "source": [
    "You can now implement **fast numerical opterations** on this data object (note that the outout is a ``carray`` object)."
   ]
  },
  {
   "cell_type": "code",
   "execution_count": 5,
   "metadata": {
    "collapsed": false
   },
   "outputs": [
    {
     "name": "stdout",
     "output_type": "stream",
     "text": [
      "CPU times: user 6.24 s, sys: 1.66 s, total: 7.9 s\n",
      "Wall time: 2.11 s\n"
     ]
    },
    {
     "data": {
      "text/plain": [
       "carray((100000000,), float64)\n",
       "  nbytes: 762.94 MB; cbytes: 347.33 MB; ratio: 2.20\n",
       "  cparams := cparams(clevel=5, shuffle=True, cname='blosclz')\n",
       "[  0.00000000e+00   2.00000000e+00   6.00000000e+00 ...,   1.37491943e+09\n",
       "   1.57491943e+09   1.77491942e+09]"
      ]
     },
     "execution_count": 5,
     "metadata": {},
     "output_type": "execute_result"
    }
   ],
   "source": [
    "%time ct.eval('f0 ** 2 + sqrt(f1)')"
   ]
  },
  {
   "cell_type": "markdown",
   "metadata": {},
   "source": [
    "### Disk-Based Storage"
   ]
  },
  {
   "cell_type": "markdown",
   "metadata": {},
   "source": [
    "The same tasks can be implemented with **disk-based storage**. To this end, only specify the **``rootdir`` parameter**."
   ]
  },
  {
   "cell_type": "code",
   "execution_count": 6,
   "metadata": {
    "collapsed": false
   },
   "outputs": [
    {
     "name": "stdout",
     "output_type": "stream",
     "text": [
      "CPU times: user 40.3 s, sys: 609 ms, total: 40.9 s\n",
      "Wall time: 38.1 s\n"
     ]
    }
   ],
   "source": [
    "%%time\n",
    "ct = bcolz.fromiter(((i, i ** 2) for i in xrange(N)),\n",
    "                    dtype=\"i4, i8\",\n",
    "                    count=N, rootdir='ct',\n",
    "                    cparams=bcolz.cparams(clevel=9))"
   ]
  },
  {
   "cell_type": "markdown",
   "metadata": {},
   "source": [
    "With about **30 sec** the generation takes a bit longer to store the data on disk &ndash; everything else (especially the object handling) remaining the same however. "
   ]
  },
  {
   "cell_type": "code",
   "execution_count": 7,
   "metadata": {
    "collapsed": false
   },
   "outputs": [
    {
     "data": {
      "text/plain": [
       "ctable((100000000,), [('f0', '<i4'), ('f1', '<i8')])\n",
       "  nbytes: 1.12 GB; cbytes: 151.84 MB; ratio: 7.54\n",
       "  cparams := cparams(clevel=9, shuffle=True, cname='blosclz')\n",
       "  rootdir := 'ct'\n",
       "[(0, 0) (1, 1) (2, 4) ..., (99999997, 9999999400000009)\n",
       " (99999998, 9999999600000004) (99999999, 9999999800000001)]"
      ]
     },
     "execution_count": 7,
     "metadata": {},
     "output_type": "execute_result"
    }
   ],
   "source": [
    "ct"
   ]
  },
  {
   "cell_type": "markdown",
   "metadata": {},
   "source": [
    "The **numerical operations work in the same fashion** and hardly take longer due to native **multi threading and optimized caching**."
   ]
  },
  {
   "cell_type": "code",
   "execution_count": 8,
   "metadata": {
    "collapsed": false
   },
   "outputs": [
    {
     "name": "stdout",
     "output_type": "stream",
     "text": [
      "CPU times: user 5.99 s, sys: 2.24 s, total: 8.23 s\n",
      "Wall time: 2.19 s\n"
     ]
    },
    {
     "data": {
      "text/plain": [
       "carray((100000000,), float64)\n",
       "  nbytes: 762.94 MB; cbytes: 347.33 MB; ratio: 2.20\n",
       "  cparams := cparams(clevel=5, shuffle=True, cname='blosclz')\n",
       "[  0.00000000e+00   2.00000000e+00   6.00000000e+00 ...,   1.37491943e+09\n",
       "   1.57491943e+09   1.77491942e+09]"
      ]
     },
     "execution_count": 8,
     "metadata": {},
     "output_type": "execute_result"
    }
   ],
   "source": [
    "%time ct.eval('f0 ** 2 + sqrt(f1)')"
   ]
  },
  {
   "cell_type": "markdown",
   "metadata": {},
   "source": [
    "Let us finally verify **system disk usage**."
   ]
  },
  {
   "cell_type": "code",
   "execution_count": 9,
   "metadata": {
    "collapsed": false
   },
   "outputs": [
    {
     "name": "stdout",
     "output_type": "stream",
     "text": [
      "153M\tct\r\n"
     ]
    }
   ],
   "source": [
    "!du -hs ct\n",
    "# system disk usage"
   ]
  },
  {
   "cell_type": "code",
   "execution_count": 10,
   "metadata": {
    "collapsed": false
   },
   "outputs": [],
   "source": [
    "!rm -r ct"
   ]
  },
  {
   "cell_type": "markdown",
   "metadata": {},
   "source": [
    "## carray Example"
   ]
  },
  {
   "cell_type": "markdown",
   "metadata": {},
   "source": [
    "This example is about **mid data** which does **not fit (in general) into memory** (without compression). "
   ]
  },
  {
   "cell_type": "code",
   "execution_count": 11,
   "metadata": {
    "collapsed": false
   },
   "outputs": [],
   "source": [
    "import numpy as np"
   ]
  },
  {
   "cell_type": "markdown",
   "metadata": {},
   "source": [
    "We generte as basis a NumPy ``ndarray`` object of size **32 MB**."
   ]
  },
  {
   "cell_type": "code",
   "execution_count": 12,
   "metadata": {
    "collapsed": false
   },
   "outputs": [
    {
     "data": {
      "text/plain": [
       "32000000"
      ]
     },
     "execution_count": 12,
     "metadata": {},
     "output_type": "execute_result"
    }
   ],
   "source": [
    "n = 2000\n",
    "a = np.arange(n * n).reshape(n, n) \n",
    "a.nbytes"
   ]
  },
  {
   "cell_type": "markdown",
   "metadata": {},
   "source": [
    "### In-Memory Storage"
   ]
  },
  {
   "cell_type": "markdown",
   "metadata": {},
   "source": [
    "Let us first again work **in-memory**. Our ``carray`` object contains **4,000 versions** of the ``ndarray`` object."
   ]
  },
  {
   "cell_type": "code",
   "execution_count": 13,
   "metadata": {
    "collapsed": false
   },
   "outputs": [
    {
     "name": "stdout",
     "output_type": "stream",
     "text": [
      "CPU times: user 42.4 s, sys: 615 ms, total: 43 s\n",
      "Wall time: 42.7 s\n"
     ]
    }
   ],
   "source": [
    "%%time\n",
    "it = 4000\n",
    "ca = bcolz.carray(a, cparams=bcolz.cparams(clevel=9))\n",
    "for i in range(it):\n",
    "    ca.append(a)"
   ]
  },
  {
   "cell_type": "markdown",
   "metadata": {},
   "source": [
    "The in-memory generation of the object takes about **25 sec**. The ``carray`` object has stores **120 GB** worth of data in less than **1 GB** of memory, for a compression ratio of more than  **130**."
   ]
  },
  {
   "cell_type": "code",
   "execution_count": 14,
   "metadata": {
    "collapsed": false
   },
   "outputs": [
    {
     "data": {
      "text/plain": [
       "carray((8002000, 2000), int64)\n",
       "  nbytes: 119.24 GB; cbytes: 912.17 MB; ratio: 133.86\n",
       "  cparams := cparams(clevel=9, shuffle=True, cname='blosclz')\n",
       "[[      0       1       2 ...,    1997    1998    1999]\n",
       " [   2000    2001    2002 ...,    3997    3998    3999]\n",
       " [   4000    4001    4002 ...,    5997    5998    5999]\n",
       " ..., \n",
       " [3994000 3994001 3994002 ..., 3995997 3995998 3995999]\n",
       " [3996000 3996001 3996002 ..., 3997997 3997998 3997999]\n",
       " [3998000 3998001 3998002 ..., 3999997 3999998 3999999]]"
      ]
     },
     "execution_count": 14,
     "metadata": {},
     "output_type": "execute_result"
    }
   ],
   "source": [
    "ca"
   ]
  },
  {
   "cell_type": "markdown",
   "metadata": {},
   "source": [
    "Let us implement the **evaluation of a numerical expression** on this data set. The syntax and handling are the same **as with NumPy ``ndarray`` objects**. "
   ]
  },
  {
   "cell_type": "code",
   "execution_count": 15,
   "metadata": {
    "collapsed": false
   },
   "outputs": [
    {
     "name": "stdout",
     "output_type": "stream",
     "text": [
      "CPU times: user 144 ms, sys: 64.3 ms, total: 209 ms\n",
      "Wall time: 208 ms\n"
     ]
    },
    {
     "data": {
      "text/plain": [
       "array([[  0.00000000e+00,   2.00000000e+00,   5.41421356e+00, ...,\n",
       "          3.98805369e+06,   3.99204870e+06,   3.99604571e+06],\n",
       "       [  4.00004472e+06,   4.00404573e+06,   4.00804874e+06, ...,\n",
       "          1.59760722e+07,   1.59840672e+07,   1.59920642e+07],\n",
       "       [  1.60000632e+07,   1.60080643e+07,   1.60160673e+07, ...,\n",
       "          3.59640864e+07,   3.59760814e+07,   3.59880785e+07],\n",
       "       ..., \n",
       "       [  3.97603600e+12,   3.97603999e+12,   3.97604398e+12, ...,\n",
       "          3.98400403e+12,   3.98400802e+12,   3.98401201e+12],\n",
       "       [  3.98401600e+12,   3.98401999e+12,   3.98402399e+12, ...,\n",
       "          3.99199201e+12,   3.99199601e+12,   3.99200001e+12],\n",
       "       [  3.99200400e+12,   3.99200800e+12,   3.99201199e+12, ...,\n",
       "          3.99998800e+12,   3.99999200e+12,   3.99999600e+12]])"
      ]
     },
     "execution_count": 15,
     "metadata": {},
     "output_type": "execute_result"
    }
   ],
   "source": [
    "%time ca[:5000] ** 2 + np.sqrt(ca[10000:15000])"
   ]
  },
  {
   "cell_type": "markdown",
   "metadata": {},
   "source": [
    "Another approach is to use the **``eval`` function** of bcolz."
   ]
  },
  {
   "cell_type": "code",
   "execution_count": 16,
   "metadata": {
    "collapsed": false
   },
   "outputs": [],
   "source": [
    "x = ca[:100000]  # 100,000 rows as sub-set"
   ]
  },
  {
   "cell_type": "code",
   "execution_count": 17,
   "metadata": {
    "collapsed": false
   },
   "outputs": [
    {
     "name": "stdout",
     "output_type": "stream",
     "text": [
      "CPU times: user 7.27 s, sys: 3.52 s, total: 10.8 s\n",
      "Wall time: 1.64 s\n"
     ]
    },
    {
     "data": {
      "text/plain": [
       "carray((100000, 2000), float64)\n",
       "  nbytes: 1.49 GB; cbytes: 340.57 MB; ratio: 4.48\n",
       "  cparams := cparams(clevel=9, shuffle=True, cname='blosclz')\n",
       "[[  0.00000000e+00   2.00000000e+00   5.41421356e+00 ...,   3.98805369e+06\n",
       "    3.99204870e+06   3.99604571e+06]\n",
       " [  4.00004472e+06   4.00404573e+06   4.00804874e+06 ...,   1.59760722e+07\n",
       "    1.59840672e+07   1.59920642e+07]\n",
       " [  1.60000632e+07   1.60080643e+07   1.60160673e+07 ...,   3.59640864e+07\n",
       "    3.59760814e+07   3.59880785e+07]\n",
       " ..., \n",
       " [  1.59520360e+13   1.59520440e+13   1.59520520e+13 ...,   1.59679920e+13\n",
       "    1.59680000e+13   1.59680080e+13]\n",
       " [  1.59680160e+13   1.59680240e+13   1.59680320e+13 ...,   1.59839800e+13\n",
       "    1.59839880e+13   1.59839960e+13]\n",
       " [  1.59840040e+13   1.59840120e+13   1.59840200e+13 ...,   1.59999760e+13\n",
       "    1.59999840e+13   1.59999920e+13]]"
      ]
     },
     "execution_count": 17,
     "metadata": {},
     "output_type": "execute_result"
    }
   ],
   "source": [
    "%time bcolz.eval('x ** 2 + sqrt(x)', cparams=bcolz.cparams(clevel=9))"
   ]
  },
  {
   "cell_type": "markdown",
   "metadata": {},
   "source": [
    "### Disk-Based Storage"
   ]
  },
  {
   "cell_type": "markdown",
   "metadata": {},
   "source": [
    "Next, **disk-based storage** of multiple versions of the array object. We write the object **4000 times** to disk in a **single ``carray`` object**."
   ]
  },
  {
   "cell_type": "code",
   "execution_count": 18,
   "metadata": {
    "collapsed": false
   },
   "outputs": [
    {
     "name": "stdout",
     "output_type": "stream",
     "text": [
      "CPU times: user 49.1 s, sys: 18.2 s, total: 1min 7s\n",
      "Wall time: 1min 8s\n"
     ]
    }
   ],
   "source": [
    "%%time\n",
    "it = 4000\n",
    "ca = bcolz.carray(a, rootdir='ca',\n",
    "                 cparams=bcolz.cparams(clevel=9))\n",
    "for i in range(it):\n",
    "    ca.append(a)"
   ]
  },
  {
   "cell_type": "markdown",
   "metadata": {},
   "source": [
    "It takes only about **1 min** to compress and store **120 GB** worth of data **on disk**. The compression ratio in this case is again **130+**."
   ]
  },
  {
   "cell_type": "code",
   "execution_count": 19,
   "metadata": {
    "collapsed": false
   },
   "outputs": [
    {
     "data": {
      "text/plain": [
       "carray((8002000, 2000), int64)\n",
       "  nbytes: 119.24 GB; cbytes: 912.17 MB; ratio: 133.86\n",
       "  cparams := cparams(clevel=9, shuffle=True, cname='blosclz')\n",
       "  rootdir := 'ca'\n",
       "  mode    := 'a'\n",
       "[[      0       1       2 ...,    1997    1998    1999]\n",
       " [   2000    2001    2002 ...,    3997    3998    3999]\n",
       " [   4000    4001    4002 ...,    5997    5998    5999]\n",
       " ..., \n",
       " [3994000 3994001 3994002 ..., 3995997 3995998 3995999]\n",
       " [3996000 3996001 3996002 ..., 3997997 3997998 3997999]\n",
       " [3998000 3998001 3998002 ..., 3999997 3999998 3999999]]"
      ]
     },
     "execution_count": 19,
     "metadata": {},
     "output_type": "execute_result"
    }
   ],
   "source": [
    "ca"
   ]
  },
  {
   "cell_type": "markdown",
   "metadata": {},
   "source": [
    "**Simple numerical operations** are easy to implement."
   ]
  },
  {
   "cell_type": "code",
   "execution_count": 20,
   "metadata": {
    "collapsed": false
   },
   "outputs": [
    {
     "name": "stdout",
     "output_type": "stream",
     "text": [
      "CPU times: user 33.6 ms, sys: 21.1 ms, total: 54.7 ms\n",
      "Wall time: 57.6 ms\n"
     ]
    },
    {
     "data": {
      "text/plain": [
       "3999998000000"
      ]
     },
     "execution_count": 20,
     "metadata": {},
     "output_type": "execute_result"
    }
   ],
   "source": [
    "%time np.sum(ca[:1000] + ca[4000:5000])"
   ]
  },
  {
   "cell_type": "markdown",
   "metadata": {},
   "source": [
    "Let us try the previous, **mathematically more demanding operation** &ndash; again with a sub-set of the data."
   ]
  },
  {
   "cell_type": "code",
   "execution_count": 21,
   "metadata": {
    "collapsed": false
   },
   "outputs": [],
   "source": [
    "x = ca[:100000]  # 100,000 rows as sub-set"
   ]
  },
  {
   "cell_type": "markdown",
   "metadata": {},
   "source": [
    "First, with an **in-memory ``carray`` results object**."
   ]
  },
  {
   "cell_type": "code",
   "execution_count": 22,
   "metadata": {
    "collapsed": false,
    "scrolled": true
   },
   "outputs": [
    {
     "name": "stdout",
     "output_type": "stream",
     "text": [
      "CPU times: user 8.19 s, sys: 2.13 s, total: 10.3 s\n",
      "Wall time: 1.59 s\n"
     ]
    },
    {
     "data": {
      "text/plain": [
       "carray((100000, 2000), float64)\n",
       "  nbytes: 1.49 GB; cbytes: 340.57 MB; ratio: 4.48\n",
       "  cparams := cparams(clevel=9, shuffle=True, cname='blosclz')\n",
       "[[  0.00000000e+00   2.00000000e+00   5.41421356e+00 ...,   3.98805369e+06\n",
       "    3.99204870e+06   3.99604571e+06]\n",
       " [  4.00004472e+06   4.00404573e+06   4.00804874e+06 ...,   1.59760722e+07\n",
       "    1.59840672e+07   1.59920642e+07]\n",
       " [  1.60000632e+07   1.60080643e+07   1.60160673e+07 ...,   3.59640864e+07\n",
       "    3.59760814e+07   3.59880785e+07]\n",
       " ..., \n",
       " [  1.59520360e+13   1.59520440e+13   1.59520520e+13 ...,   1.59679920e+13\n",
       "    1.59680000e+13   1.59680080e+13]\n",
       " [  1.59680160e+13   1.59680240e+13   1.59680320e+13 ...,   1.59839800e+13\n",
       "    1.59839880e+13   1.59839960e+13]\n",
       " [  1.59840040e+13   1.59840120e+13   1.59840200e+13 ...,   1.59999760e+13\n",
       "    1.59999840e+13   1.59999920e+13]]"
      ]
     },
     "execution_count": 22,
     "metadata": {},
     "output_type": "execute_result"
    }
   ],
   "source": [
    "%time bcolz.eval('x ** 2 + sqrt(x)', cparams=bcolz.cparams(9))"
   ]
  },
  {
   "cell_type": "markdown",
   "metadata": {},
   "source": [
    "Second, with an **on-disk results object**. The time difference is not that huge."
   ]
  },
  {
   "cell_type": "code",
   "execution_count": 23,
   "metadata": {
    "collapsed": false
   },
   "outputs": [
    {
     "name": "stdout",
     "output_type": "stream",
     "text": [
      "CPU times: user 7.78 s, sys: 855 ms, total: 8.64 s\n",
      "Wall time: 1.79 s\n"
     ]
    },
    {
     "data": {
      "text/plain": [
       "carray((100000, 2000), float64)\n",
       "  nbytes: 1.49 GB; cbytes: 340.57 MB; ratio: 4.48\n",
       "  cparams := cparams(clevel=9, shuffle=True, cname='blosclz')\n",
       "  rootdir := 'out'\n",
       "  mode    := 'a'\n",
       "[[  0.00000000e+00   2.00000000e+00   5.41421356e+00 ...,   3.98805369e+06\n",
       "    3.99204870e+06   3.99604571e+06]\n",
       " [  4.00004472e+06   4.00404573e+06   4.00804874e+06 ...,   1.59760722e+07\n",
       "    1.59840672e+07   1.59920642e+07]\n",
       " [  1.60000632e+07   1.60080643e+07   1.60160673e+07 ...,   3.59640864e+07\n",
       "    3.59760814e+07   3.59880785e+07]\n",
       " ..., \n",
       " [  1.59520360e+13   1.59520440e+13   1.59520520e+13 ...,   1.59679920e+13\n",
       "    1.59680000e+13   1.59680080e+13]\n",
       " [  1.59680160e+13   1.59680240e+13   1.59680320e+13 ...,   1.59839800e+13\n",
       "    1.59839880e+13   1.59839960e+13]\n",
       " [  1.59840040e+13   1.59840120e+13   1.59840200e+13 ...,   1.59999760e+13\n",
       "    1.59999840e+13   1.59999920e+13]]"
      ]
     },
     "execution_count": 23,
     "metadata": {},
     "output_type": "execute_result"
    }
   ],
   "source": [
    "%time bcolz.eval('x ** 2 + sqrt(x)', cparams=bcolz.cparams(9), rootdir='out')"
   ]
  },
  {
   "cell_type": "markdown",
   "metadata": {},
   "source": [
    "Finally, we verify **system disk usage**."
   ]
  },
  {
   "cell_type": "code",
   "execution_count": 24,
   "metadata": {
    "collapsed": false
   },
   "outputs": [
    {
     "name": "stdout",
     "output_type": "stream",
     "text": [
      "984M\tca\r\n"
     ]
    }
   ],
   "source": [
    "!du -hs ca\n",
    "# system disk usage"
   ]
  },
  {
   "cell_type": "code",
   "execution_count": null,
   "metadata": {
    "collapsed": false
   },
   "outputs": [
    {
     "name": "stdout",
     "output_type": "stream",
     "text": [
      "341M\tout\r\n"
     ]
    }
   ],
   "source": [
    "!du -hs out"
   ]
  },
  {
   "cell_type": "code",
   "execution_count": null,
   "metadata": {
    "collapsed": false
   },
   "outputs": [],
   "source": [
    "!rm -r ca\n",
    "!rm -r out"
   ]
  },
  {
   "cell_type": "markdown",
   "metadata": {},
   "source": [
    "<img src=\"http://datapark.io/img/logo.png\" alt=\"datapark\" width=\"35%\" align=\"right\" border=\"0\"><br>\n",
    "\n",
    "<a href=\"http://datapark.io\" target=\"_blank\">datapark.io</a> | <a href=\"http://twitter.com/dataparkio\" target=\"_blank\">@dataparkio</a> | <a href=\"mailto:team@datapark.io\">team@datapark.io</a>"
   ]
  }
 ],
 "metadata": {
  "kernelspec": {
   "display_name": "Python 2",
   "language": "python",
   "name": "python2"
  },
  "language_info": {
   "codemirror_mode": {
    "name": "ipython",
    "version": 2
   },
   "file_extension": ".py",
   "mimetype": "text/x-python",
   "name": "python",
   "nbconvert_exporter": "python",
   "pygments_lexer": "ipython2",
   "version": "2.7.10"
  }
 },
 "nbformat": 4,
 "nbformat_minor": 0
}
