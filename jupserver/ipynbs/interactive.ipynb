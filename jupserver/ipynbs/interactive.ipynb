{
 "cells": [
  {
   "cell_type": "markdown",
   "metadata": {},
   "source": [
    "<img src=\"http://datapark.io/img/logo.png\" alt=\"datpark\" width=\"35%\" align=\"right\" border=\"0\"><br>"
   ]
  },
  {
   "cell_type": "markdown",
   "metadata": {},
   "source": [
    "# Interactive IPython Notebooks"
   ]
  },
  {
   "cell_type": "code",
   "execution_count": null,
   "metadata": {
    "collapsed": false
   },
   "outputs": [],
   "source": [
    "import warnings; warnings.simplefilter('ignore')\n",
    "from IPython.html.widgets import *"
   ]
  },
  {
   "cell_type": "code",
   "execution_count": null,
   "metadata": {
    "collapsed": false
   },
   "outputs": [],
   "source": [
    "import matplotlib as mpl\n",
    "mpl.use('agg')\n",
    "import seaborn as sns; sns.set()\n",
    "import matplotlib.pyplot as plt\n",
    "from mpl_toolkits.mplot3d import Axes3D\n",
    "\n",
    "%matplotlib inline\n",
    "import numpy as np"
   ]
  },
  {
   "cell_type": "code",
   "execution_count": null,
   "metadata": {
    "collapsed": false
   },
   "outputs": [],
   "source": [
    "class call_option(object):\n",
    "    from math import log, sqrt, exp\n",
    "    from scipy import stats\n",
    "    global log, sqrt, exp, stats\n",
    "    \n",
    "    def __init__(self, S0, K, T, r, sigma):\n",
    "        self.S0 = float(S0)\n",
    "        self.K = K\n",
    "        self.T = T\n",
    "        self.r = r\n",
    "        self.sigma = sigma\n",
    "    \n",
    "    def value(self):\n",
    "        ''' Return option value. '''\n",
    "        d1 = ((log(self.S0 / self.K) + (self.r + 0.5 * self.sigma ** 2) * self.T)\n",
    "                / (self.sigma * sqrt(self.T)))\n",
    "        d2 = ((log(self.S0 / self.K) + (self.r - 0.5 * self.sigma ** 2) * self.T)\n",
    "                / (self.sigma * sqrt(self.T)))\n",
    "        value = (self.S0 * stats.norm.cdf(d1, 0.0, 1.0)\n",
    "                - self.K * exp(-self.r * self.T) * stats.norm.cdf(d2, 0.0, 1.0))\n",
    "        return value\n",
    "    \n",
    "    def vega(self):\n",
    "        ''' Return Vega of option. '''\n",
    "        d1 = ((log(self.S0 / self.K)\n",
    "            + (self.r + (0.5 * self.sigma ** 2)) * self.T)\n",
    "            / (self.sigma * sqrt(self.T)))\n",
    "        vega = self.S0 * stats.norm.cdf(d1, 0.0, 1.0) * sqrt(self.T)\n",
    "        return vega"
   ]
  },
  {
   "cell_type": "markdown",
   "metadata": {},
   "source": [
    "## Print Output"
   ]
  },
  {
   "cell_type": "code",
   "execution_count": null,
   "metadata": {
    "collapsed": false
   },
   "outputs": [],
   "source": [
    "def vega_calculation(S0=100, T=1.0, r=0.01, sigma=0.2, n=10):\n",
    "    np.set_printoptions(formatter={'all' : \n",
    "                        lambda x: '%6.2f' % x})\n",
    "    o = call_option(S0, 100, T, r, sigma)\n",
    "    strikes = np.linspace(80, 120, n)\n",
    "    vegas = []\n",
    "    for k in strikes:\n",
    "        o.K = k\n",
    "        vegas.append(o.vega())\n",
    "    print \"Strike:\", strikes.round(3)\n",
    "    print \"Vega:  \", np.array(vegas).round(3)"
   ]
  },
  {
   "cell_type": "code",
   "execution_count": null,
   "metadata": {
    "collapsed": false
   },
   "outputs": [],
   "source": [
    "interact(vega_calculation, S0=(75, 125, 1),\n",
    "                       T=(0.01, 2.0, 0.01),\n",
    "                       r=(0.0, 0.1, 0.005),\n",
    "                       sigma=(0.01, 0.5, 0.01),\n",
    "                       n=(1, 20, 1))"
   ]
  },
  {
   "cell_type": "markdown",
   "metadata": {},
   "source": [
    "## 2d Plot"
   ]
  },
  {
   "cell_type": "code",
   "execution_count": null,
   "metadata": {
    "collapsed": false
   },
   "outputs": [],
   "source": [
    "def vega_plot_2d(S0=100, T=1.0, r=0.01, sigma=0.2):\n",
    "    o = call_option(S0, 100, T, r, sigma)\n",
    "    strikes = np.linspace(80, 120, 20)\n",
    "    vegas = []\n",
    "    for k in strikes:\n",
    "        o.K = k\n",
    "        vegas.append(o.vega())\n",
    "    plt.figure(figsize=(8, 5))\n",
    "    plt.plot(strikes, vegas)\n",
    "    plt.grid(True)\n",
    "    plt.xlabel('strike')\n",
    "    plt.ylabel('Vega')"
   ]
  },
  {
   "cell_type": "code",
   "execution_count": null,
   "metadata": {
    "collapsed": false
   },
   "outputs": [],
   "source": [
    "interact(vega_plot_2d, S0=(75, 125, 1),\n",
    "                       T=(0.01, 2.0, 0.01),\n",
    "                       r=(0.0, 0.1, 0.005),\n",
    "                       sigma=(0.01, 0.5, 0.01))"
   ]
  },
  {
   "cell_type": "markdown",
   "metadata": {},
   "source": [
    "## 3d Plot"
   ]
  },
  {
   "cell_type": "code",
   "execution_count": null,
   "metadata": {
    "collapsed": false
   },
   "outputs": [],
   "source": [
    "def vega_plot_3d(S0=100, r=0.01, sigma=0.2):\n",
    "    o = call_option(S0, 100, 1.0, r, sigma)\n",
    "    maturities = np.linspace(0.05, 2.0, 20)\n",
    "    strikes = np.linspace(80, 120, 20)\n",
    "    T, K = np.meshgrid(strikes, maturities)\n",
    "    V = np.zeros_like(K)\n",
    "    for t in enumerate(maturities):\n",
    "         for k in enumerate(strikes):\n",
    "             o.T = t[1]\n",
    "             o.K = k[1]\n",
    "             V[t[0], k[0]] = o.vega()\n",
    "    fig = plt.figure(figsize=(10, 5))\n",
    "    ax = fig.gca(projection='3d')\n",
    "    surf = ax.plot_surface(T, K, V, rstride=1, cstride=1,\n",
    "             cmap='RdYlBu_r', linewidth=0.5, antialiased=True)\n",
    "    ax.set_xlabel('strike')\n",
    "    ax.set_ylabel('maturity')\n",
    "    ax.set_zlabel('Vega of European call option')\n",
    "    fig.colorbar(surf, shrink=0.5, aspect=5)"
   ]
  },
  {
   "cell_type": "code",
   "execution_count": null,
   "metadata": {
    "collapsed": false
   },
   "outputs": [],
   "source": [
    "interact(vega_plot_3d, S0=(75, 125, 1),\n",
    "                    r=(0.0, 0.1, 0.005),\n",
    "                    sigma=(0.01, 0.5, 0.01));"
   ]
  },
  {
   "cell_type": "markdown",
   "metadata": {},
   "source": [
    "<img src=\"http://datapark.io/img/logo.png\" alt=\"datapark\" width=\"35%\" align=\"right\" border=\"0\"><br>\n",
    "\n",
    "<a href=\"http://datapark.io\" target=\"_blank\">datapark.io</a> | <a href=\"http://twitter.com/dataparkio\" target=\"_blank\">@dataparkio</a> | <a href=\"mailto:team@datapark.io\">team@datapark.io</a>"
   ]
  }
 ],
 "metadata": {
  "kernelspec": {
   "display_name": "Python 2",
   "language": "python",
   "name": "python2"
  },
  "language_info": {
   "codemirror_mode": {
    "name": "ipython",
    "version": 2
   },
   "file_extension": ".py",
   "mimetype": "text/x-python",
   "name": "python",
   "nbconvert_exporter": "python",
   "pygments_lexer": "ipython2",
   "version": "2.7.10"
  }
 },
 "nbformat": 4,
 "nbformat_minor": 0
}
